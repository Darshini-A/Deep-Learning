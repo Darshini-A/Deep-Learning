{
  "nbformat": 4,
  "nbformat_minor": 0,
  "metadata": {
    "colab": {
      "provenance": [],
      "authorship_tag": "ABX9TyPpA81BbBrmZEYNnnM+27e8",
      "include_colab_link": true
    },
    "kernelspec": {
      "name": "python3",
      "display_name": "Python 3"
    },
    "language_info": {
      "name": "python"
    }
  },
  "cells": [
    {
      "cell_type": "markdown",
      "metadata": {
        "id": "view-in-github",
        "colab_type": "text"
      },
      "source": [
        "<a href=\"https://colab.research.google.com/github/Darshini-A/Deep-Learning/blob/main/EigenValues%20%2C%20EigenVectors%202%20.ipynb\" target=\"_parent\"><img src=\"https://colab.research.google.com/assets/colab-badge.svg\" alt=\"Open In Colab\"/></a>"
      ]
    },
    {
      "cell_type": "code",
      "execution_count": 13,
      "metadata": {
        "colab": {
          "base_uri": "https://localhost:8080/"
        },
        "id": "2PvyEGFeeG7R",
        "outputId": "856c1736-1824-4232-d3cf-e102313a90b7"
      },
      "outputs": [
        {
          "output_type": "stream",
          "name": "stdout",
          "text": [
            "Printing the Original square array:\n",
            " [[1 2]\n",
            " [2 3]]\n",
            "\n",
            "***************************************\n",
            "\n",
            "Printing the Eigen values of the given square array:\n",
            " [-0.23606798  4.23606798]\n",
            "\n",
            "\n",
            "Printing Right Eigen Vectors of the given square array:\n",
            " [[-0.85065081 -0.52573111]\n",
            " [ 0.52573111 -0.85065081]]\n"
          ]
        }
      ],
      "source": [
        "# 2-D array\n",
        "\n",
        "import numpy as np\n",
        "\n",
        "m = np.array([[1, 2],\n",
        "              [2, 3]])\n",
        "\n",
        "print(\"Printing the Original square array:\\n\", m)\n",
        "print()\n",
        "print('***************************************')\n",
        "print()\n",
        "\n",
        "w, v = np.linalg.eig(m)\n",
        "\n",
        "print(\"Printing the Eigen values of the given square array:\\n\", w)\n",
        "print()\n",
        "print(\"\\nPrinting Right Eigen Vectors of the given square array:\\n\", v)"
      ]
    },
    {
      "cell_type": "code",
      "source": [
        "# 3-D array\n",
        "\n",
        "import numpy as np\n",
        "\n",
        "n = np.array([[1, 2, 3],\n",
        "              [2, 3, 4],\n",
        "              [4, 5, 6]])\n",
        "\n",
        "print(\"Printing the Original square array:\\n\", n)\n",
        "print()\n",
        "print('***************************************')\n",
        "print()\n",
        "\n",
        "a, b = np.linalg.eig(n)\n",
        "\n",
        "print(\"Printing the Eigen values of the given square array:\\n\", a)\n",
        "print()\n",
        "print(\"\\nPrinting Right eigenvectors of the given square array:\\n\", b)"
      ],
      "metadata": {
        "colab": {
          "base_uri": "https://localhost:8080/"
        },
        "id": "wYXr8zRueyjr",
        "outputId": "c5f649f2-ad75-4aed-fe4e-cdeb8b65a6d7"
      },
      "execution_count": 12,
      "outputs": [
        {
          "output_type": "stream",
          "name": "stdout",
          "text": [
            "Printing the Original square array:\n",
            " [[1 2 3]\n",
            " [2 3 4]\n",
            " [4 5 6]]\n",
            "\n",
            "***************************************\n",
            "\n",
            "Printing the Eigen values of the given square array:\n",
            " [ 1.08309519e+01 -8.30951895e-01  1.01486082e-16]\n",
            "\n",
            "\n",
            "Printing Right eigenvectors of the given square array:\n",
            " [[ 0.34416959  0.72770285  0.40824829]\n",
            " [ 0.49532111  0.27580256 -0.81649658]\n",
            " [ 0.79762415 -0.62799801  0.40824829]]\n"
          ]
        }
      ]
    },
    {
      "cell_type": "code",
      "source": [
        "# 2-D array using tensorflow\n",
        "\n",
        "import tensorflow as tf\n",
        "\n",
        "e_matrix_A = tf.random.uniform([2, 2], minval=3, maxval=10, dtype=tf.float32, name=\"matrixA\")\n",
        "print(\"Matrix A: \\n{}\\n\".format(e_matrix_A))\n",
        "\n",
        "eigen_values_A, eigen_vectors_A = tf.linalg.eigh(e_matrix_A)\n",
        "print(\"Eigen Vectors: \\n{} \\n\\nEigen Values: \\n{}\\n\".format(eigen_vectors_A, eigen_values_A))"
      ],
      "metadata": {
        "colab": {
          "base_uri": "https://localhost:8080/"
        },
        "id": "p17wQgQSeyqb",
        "outputId": "970d4f25-6f6d-4574-f6dc-2f1fdad11b42"
      },
      "execution_count": 14,
      "outputs": [
        {
          "output_type": "stream",
          "name": "stdout",
          "text": [
            "Matrix A: \n",
            "[[7.259452 9.190377]\n",
            " [8.488132 4.392931]]\n",
            "\n",
            "Eigen Vectors: \n",
            "[[-0.64556265  0.7637073 ]\n",
            " [ 0.7637073   0.64556265]] \n",
            "\n",
            "Eigen Values: \n",
            "[-2.7820964 14.434479 ]\n",
            "\n"
          ]
        }
      ]
    },
    {
      "cell_type": "code",
      "source": [
        "# 3-D array using tensorflow\n",
        "\n",
        "import tensorflow as tf\n",
        "\n",
        "e_matrix_B = tf.random.uniform([3, 3], minval=3, maxval=10, dtype=tf.float32, name=\"matrixB\")\n",
        "print(\"Matrix B: \\n{}\\n\".format(e_matrix_B))\n",
        "\n",
        "eigen_values_B, eigen_vectors_B = tf.linalg.eigh(e_matrix_B)\n",
        "print(\"Eigen Vectors: \\n{} \\n\\nEigen Values: \\n{}\\n\".format(eigen_vectors_B, eigen_values_B))"
      ],
      "metadata": {
        "colab": {
          "base_uri": "https://localhost:8080/"
        },
        "id": "Qh5VN4gofwEx",
        "outputId": "c3d76f09-bdc8-47a1-f340-b57060be3efb"
      },
      "execution_count": 15,
      "outputs": [
        {
          "output_type": "stream",
          "name": "stdout",
          "text": [
            "Matrix B: \n",
            "[[3.959043  7.247425  4.690694 ]\n",
            " [5.040031  4.9724793 7.219287 ]\n",
            " [8.151928  4.406246  6.9891214]]\n",
            "\n",
            "Eigen Vectors: \n",
            "[[ 0.80077434  0.14163536  0.58197916]\n",
            " [-0.19206527 -0.8596119   0.47347456]\n",
            " [-0.567337    0.49092436  0.66115195]] \n",
            "\n",
            "Eigen Values: \n",
            "[-3.025327   1.6256448 17.320328 ]\n",
            "\n"
          ]
        }
      ]
    }
  ]
}