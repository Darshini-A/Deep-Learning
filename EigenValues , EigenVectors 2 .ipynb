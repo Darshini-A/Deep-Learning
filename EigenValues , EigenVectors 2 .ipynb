{
  "nbformat": 4,
  "nbformat_minor": 0,
  "metadata": {
    "colab": {
      "provenance": [],
      "authorship_tag": "ABX9TyONZ8QT6LEPW7lYXClotcTv",
      "include_colab_link": true
    },
    "kernelspec": {
      "name": "python3",
      "display_name": "Python 3"
    },
    "language_info": {
      "name": "python"
    }
  },
  "cells": [
    {
      "cell_type": "markdown",
      "metadata": {
        "id": "view-in-github",
        "colab_type": "text"
      },
      "source": [
        "<a href=\"https://colab.research.google.com/github/Darshini-A/Deep-Learning/blob/main/EigenValues%20%2C%20EigenVectors%202%20.ipynb\" target=\"_parent\"><img src=\"https://colab.research.google.com/assets/colab-badge.svg\" alt=\"Open In Colab\"/></a>"
      ]
    },
    {
      "cell_type": "code",
      "source": [
        "# computing eigenvalues & right eigenvectors using NumPy library"
      ],
      "metadata": {
        "id": "Hxk2Alfz79xq"
      },
      "execution_count": 11,
      "outputs": []
    },
    {
      "cell_type": "code",
      "execution_count": 12,
      "metadata": {
        "colab": {
          "base_uri": "https://localhost:8080/"
        },
        "id": "2PvyEGFeeG7R",
        "outputId": "92b60e16-eeb4-4799-af83-343a0ecbf1be"
      },
      "outputs": [
        {
          "output_type": "stream",
          "name": "stdout",
          "text": [
            "Printing the square array :\n",
            " [[1 2]\n",
            " [2 3]]\n",
            "\n",
            "********************************************************\n",
            "\n",
            "Printing the Eigen Values of the square array :\n",
            " [-0.23606798  4.23606798]\n",
            "\n",
            "Printing the Right Eigen Vectors of the square array :\n",
            " [[-0.85065081 -0.52573111]\n",
            " [ 0.52573111 -0.85065081]]\n"
          ]
        }
      ],
      "source": [
        "# 2-D array\n",
        "\n",
        "import numpy as np\n",
        "\n",
        "m = np.array([[1, 2],\n",
        "              [2, 3]])\n",
        "\n",
        "print(\"Printing the square array :\\n\", m)\n",
        "print('\\n********************************************************')\n",
        "\n",
        "w, v = np.linalg.eig(m)\n",
        "\n",
        "print(\"\\nPrinting the Eigen Values of the square array :\\n\", w)\n",
        "print(\"\\nPrinting the Right Eigen Vectors of the square array :\\n\", v)"
      ]
    },
    {
      "cell_type": "code",
      "source": [
        "# 3-D array\n",
        "\n",
        "import numpy as np\n",
        "\n",
        "n = np.array([[1, 2, 3],\n",
        "              [2, 3, 4],\n",
        "              [4, 5, 6]])\n",
        "\n",
        "print(\"Printing the square array:\\n\", n)\n",
        "print('\\n********************************************************')\n",
        "\n",
        "a, b = np.linalg.eig(n)\n",
        "\n",
        "print(\"\\nPrinting the Eigen Values of the square array :\\n\", a)\n",
        "print(\"\\nPrinting the Right Eigen Vectors of the square array :\\n\", b)"
      ],
      "metadata": {
        "colab": {
          "base_uri": "https://localhost:8080/"
        },
        "id": "wYXr8zRueyjr",
        "outputId": "dbcb6da3-91d3-48c5-94f7-4b29aae0c43b"
      },
      "execution_count": 13,
      "outputs": [
        {
          "output_type": "stream",
          "name": "stdout",
          "text": [
            "Printing the square array:\n",
            " [[1 2 3]\n",
            " [2 3 4]\n",
            " [4 5 6]]\n",
            "\n",
            "********************************************************\n",
            "\n",
            "Printing the Eigen Values of the square array :\n",
            " [ 1.08309519e+01 -8.30951895e-01  1.01486082e-16]\n",
            "\n",
            "Printing the Right Eigen Vectors of the square array :\n",
            " [[ 0.34416959  0.72770285  0.40824829]\n",
            " [ 0.49532111  0.27580256 -0.81649658]\n",
            " [ 0.79762415 -0.62799801  0.40824829]]\n"
          ]
        }
      ]
    },
    {
      "cell_type": "code",
      "source": [],
      "metadata": {
        "id": "-drM5uYr8b-r"
      },
      "execution_count": 13,
      "outputs": []
    },
    {
      "cell_type": "code",
      "source": [
        "# computing eigenvalues & eigenvectors using tensorflow"
      ],
      "metadata": {
        "id": "XbOp92ki8cEm"
      },
      "execution_count": 14,
      "outputs": []
    },
    {
      "cell_type": "code",
      "source": [
        "# 2-D array using tensorflow\n",
        "\n",
        "import tensorflow as tf\n",
        "\n",
        "e_matrix_A = tf.random.uniform([2, 2], minval=3, maxval=10, dtype=tf.float32, name=\"matrixA\")\n",
        "print(\"Matrix A: \\n{}\\n\".format(e_matrix_A))\n",
        "\n",
        "eigen_values_A, eigen_vectors_A = tf.linalg.eigh(e_matrix_A)\n",
        "print(\"Eigen Vectors of Matrix A : \\n{} \\n\\nEigen Values of Matrix A : \\n{}\\n\".format(eigen_vectors_A, eigen_values_A))"
      ],
      "metadata": {
        "colab": {
          "base_uri": "https://localhost:8080/"
        },
        "id": "p17wQgQSeyqb",
        "outputId": "8716cbe8-9f94-4a97-946f-4cd577545d55"
      },
      "execution_count": 18,
      "outputs": [
        {
          "output_type": "stream",
          "name": "stdout",
          "text": [
            "Matrix A: \n",
            "[[7.474695  9.806396 ]\n",
            " [7.1052694 3.3815675]]\n",
            "\n",
            "Eigen Vectors of Matrix A : \n",
            "[[-0.60133934  0.7989937 ]\n",
            " [ 0.7989937   0.60133934]] \n",
            "\n",
            "Eigen Values of Matrix A : \n",
            "[-1.9660064 12.822269 ]\n",
            "\n"
          ]
        }
      ]
    },
    {
      "cell_type": "code",
      "source": [
        "# 3-D array using tensorflow\n",
        "\n",
        "import tensorflow as tf\n",
        "\n",
        "e_matrix_B = tf.random.uniform([3, 3], minval=3, maxval=10, dtype=tf.float32, name=\"matrixB\")\n",
        "print(\"Matrix B: \\n{}\\n\".format(e_matrix_B))\n",
        "\n",
        "eigen_values_B, eigen_vectors_B = tf.linalg.eigh(e_matrix_B)\n",
        "print(\"Eigen Vectors of Matrix B : \\n{} \\n\\nEigen Values of Matrix B : \\n{}\\n\".format(eigen_vectors_B, eigen_values_B))"
      ],
      "metadata": {
        "colab": {
          "base_uri": "https://localhost:8080/"
        },
        "id": "Qh5VN4gofwEx",
        "outputId": "4540f836-911e-4bf6-90c3-9aeafd7f311e"
      },
      "execution_count": 16,
      "outputs": [
        {
          "output_type": "stream",
          "name": "stdout",
          "text": [
            "Matrix B: \n",
            "[[8.937064  9.608495  3.792766 ]\n",
            " [3.8467534 3.2793646 5.6868496]\n",
            " [3.1763508 3.5747545 6.685529 ]]\n",
            "\n",
            "Eigen Vectors of Matrix B : \n",
            "[[-0.26262492 -0.6520071   0.7112767 ]\n",
            " [ 0.885711    0.12955685  0.4457924 ]\n",
            " [-0.3828107   0.7470619   0.5434651 ]] \n",
            "\n",
            "Eigen Values of Matrix B : \n",
            "[ 0.5937178  4.5332704 13.774967 ]\n",
            "\n"
          ]
        }
      ]
    }
  ]
}