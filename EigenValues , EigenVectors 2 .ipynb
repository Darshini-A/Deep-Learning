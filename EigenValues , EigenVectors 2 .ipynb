{
  "nbformat": 4,
  "nbformat_minor": 0,
  "metadata": {
    "colab": {
      "provenance": [],
      "authorship_tag": "ABX9TyMm1eTY5GvIb0lOdUAZldWm",
      "include_colab_link": true
    },
    "kernelspec": {
      "name": "python3",
      "display_name": "Python 3"
    },
    "language_info": {
      "name": "python"
    }
  },
  "cells": [
    {
      "cell_type": "markdown",
      "metadata": {
        "id": "view-in-github",
        "colab_type": "text"
      },
      "source": [
        "<a href=\"https://colab.research.google.com/github/Darshini-A/Deep-Learning/blob/main/EigenValues%20%2C%20EigenVectors%202%20.ipynb\" target=\"_parent\"><img src=\"https://colab.research.google.com/assets/colab-badge.svg\" alt=\"Open In Colab\"/></a>"
      ]
    },
    {
      "cell_type": "code",
      "execution_count": 5,
      "metadata": {
        "colab": {
          "base_uri": "https://localhost:8080/"
        },
        "id": "2PvyEGFeeG7R",
        "outputId": "6e9defad-801d-4447-b18d-4c5ebb7f7f9d"
      },
      "outputs": [
        {
          "output_type": "stream",
          "name": "stdout",
          "text": [
            "Printing the Original square array:\n",
            " [[1 2]\n",
            " [2 3]]\n",
            "\n",
            "********************************************************\n",
            "\n",
            "Printing the Eigen values of the given square array:\n",
            " [-0.23606798  4.23606798]\n",
            "\n",
            "Printing Right Eigen Vectors of the given square array:\n",
            " [[-0.85065081 -0.52573111]\n",
            " [ 0.52573111 -0.85065081]]\n"
          ]
        }
      ],
      "source": [
        "# 2-D array\n",
        "\n",
        "import numpy as np\n",
        "\n",
        "m = np.array([[1, 2],\n",
        "              [2, 3]])\n",
        "\n",
        "print(\"Printing the Original square array:\\n\", m)\n",
        "print()\n",
        "print('********************************************************')\n",
        "print()\n",
        "\n",
        "w, v = np.linalg.eig(m)\n",
        "\n",
        "print(\"Printing the Eigen values of the given square array:\\n\", w)\n",
        "print()\n",
        "print(\"Printing Right Eigen Vectors of the given square array:\\n\", v)"
      ]
    },
    {
      "cell_type": "code",
      "source": [
        "# 3-D array\n",
        "\n",
        "import numpy as np\n",
        "\n",
        "n = np.array([[1, 2, 3],\n",
        "              [2, 3, 4],\n",
        "              [4, 5, 6]])\n",
        "\n",
        "print(\"Printing the Original square array:\\n\", n)\n",
        "print()\n",
        "print('**********************************************************')\n",
        "print()\n",
        "\n",
        "a, b = np.linalg.eig(n)\n",
        "\n",
        "print(\"Printing the Eigen values of the given square array:\\n\", a)\n",
        "print()\n",
        "print(\"Printing Right eigenvectors of the given square array:\\n\", b)"
      ],
      "metadata": {
        "colab": {
          "base_uri": "https://localhost:8080/"
        },
        "id": "wYXr8zRueyjr",
        "outputId": "17c1ad29-828a-4aaa-c418-4f6b2e6cec30"
      },
      "execution_count": 6,
      "outputs": [
        {
          "output_type": "stream",
          "name": "stdout",
          "text": [
            "Printing the Original square array:\n",
            " [[1 2 3]\n",
            " [2 3 4]\n",
            " [4 5 6]]\n",
            "\n",
            "**********************************************************\n",
            "\n",
            "Printing the Eigen values of the given square array:\n",
            " [ 1.08309519e+01 -8.30951895e-01  1.01486082e-16]\n",
            "\n",
            "Printing Right eigenvectors of the given square array:\n",
            " [[ 0.34416959  0.72770285  0.40824829]\n",
            " [ 0.49532111  0.27580256 -0.81649658]\n",
            " [ 0.79762415 -0.62799801  0.40824829]]\n"
          ]
        }
      ]
    },
    {
      "cell_type": "code",
      "source": [
        "# 2-D array using tensorflow\n",
        "\n",
        "import tensorflow as tf\n",
        "\n",
        "e_matrix_A = tf.random.uniform([2, 2], minval=3, maxval=10, dtype=tf.float32, name=\"matrixA\")\n",
        "print(\"Matrix A: \\n{}\\n\".format(e_matrix_A))\n",
        "\n",
        "eigen_values_A, eigen_vectors_A = tf.linalg.eigh(e_matrix_A)\n",
        "print(\"Eigen Vectors: \\n{} \\n\\nEigen Values: \\n{}\\n\".format(eigen_vectors_A, eigen_values_A))"
      ],
      "metadata": {
        "colab": {
          "base_uri": "https://localhost:8080/"
        },
        "id": "p17wQgQSeyqb",
        "outputId": "343109ee-355d-4a15-acc6-d8607dffa2ab"
      },
      "execution_count": 7,
      "outputs": [
        {
          "output_type": "stream",
          "name": "stdout",
          "text": [
            "Matrix A: \n",
            "[[4.075759  4.8080454]\n",
            " [7.0614367 4.274633 ]]\n",
            "\n",
            "Eigen Vectors: \n",
            "[[-0.71206754 -0.702111  ]\n",
            " [ 0.702111   -0.71206754]] \n",
            "\n",
            "Eigen Values: \n",
            "[-2.886941 11.237334]\n",
            "\n"
          ]
        }
      ]
    },
    {
      "cell_type": "code",
      "source": [
        "# 3-D array using tensorflow\n",
        "\n",
        "import tensorflow as tf\n",
        "\n",
        "e_matrix_B = tf.random.uniform([3, 3], minval=3, maxval=10, dtype=tf.float32, name=\"matrixB\")\n",
        "print(\"Matrix B: \\n{}\\n\".format(e_matrix_B))\n",
        "\n",
        "eigen_values_B, eigen_vectors_B = tf.linalg.eigh(e_matrix_B)\n",
        "print(\"Eigen Vectors: \\n{} \\n\\nEigen Values: \\n{}\\n\".format(eigen_vectors_B, eigen_values_B))"
      ],
      "metadata": {
        "colab": {
          "base_uri": "https://localhost:8080/"
        },
        "id": "Qh5VN4gofwEx",
        "outputId": "6a958da2-5ca5-4fdf-8729-2690ed851a42"
      },
      "execution_count": 8,
      "outputs": [
        {
          "output_type": "stream",
          "name": "stdout",
          "text": [
            "Matrix B: \n",
            "[[6.697035  7.8760905 9.697329 ]\n",
            " [7.6398726 9.698332  6.7035217]\n",
            " [4.456567  9.690588  3.672114 ]]\n",
            "\n",
            "Eigen Vectors: \n",
            "[[-0.14278075 -0.85364556  0.50090206]\n",
            " [ 0.6351931   0.30908638  0.7078102 ]\n",
            " [-0.75904095  0.4192312   0.49809825]] \n",
            "\n",
            "Eigen Values: \n",
            "[-3.599012   1.7421529 21.924337 ]\n",
            "\n"
          ]
        }
      ]
    }
  ]
}