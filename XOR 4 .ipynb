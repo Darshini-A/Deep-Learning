{
  "nbformat": 4,
  "nbformat_minor": 0,
  "metadata": {
    "colab": {
      "provenance": [],
      "authorship_tag": "ABX9TyNs+MBMVlafLM9RNxnlHoVi",
      "include_colab_link": true
    },
    "kernelspec": {
      "name": "python3",
      "display_name": "Python 3"
    },
    "language_info": {
      "name": "python"
    }
  },
  "cells": [
    {
      "cell_type": "markdown",
      "metadata": {
        "id": "view-in-github",
        "colab_type": "text"
      },
      "source": [
        "<a href=\"https://colab.research.google.com/github/Darshini-A/Deep-Learning/blob/main/XOR%204%20.ipynb\" target=\"_parent\"><img src=\"https://colab.research.google.com/assets/colab-badge.svg\" alt=\"Open In Colab\"/></a>"
      ]
    },
    {
      "cell_type": "code",
      "execution_count": 1,
      "metadata": {
        "id": "MsHGMkTzIV_d"
      },
      "outputs": [],
      "source": [
        "import numpy as np"
      ]
    },
    {
      "cell_type": "code",
      "source": [
        "def unitStep(v):\n",
        "    if v >= 0:\n",
        "        return 1\n",
        "    else:\n",
        "        return 0"
      ],
      "metadata": {
        "id": "31pTi1R9T7Aw"
      },
      "execution_count": 2,
      "outputs": []
    },
    {
      "cell_type": "code",
      "source": [
        "def perceptronModel(x, w, b):\n",
        "    v = np.dot(w, x) + b\n",
        "    y = unitStep(v)\n",
        "    return y"
      ],
      "metadata": {
        "id": "Y8r_qSpzT7Dp"
      },
      "execution_count": 3,
      "outputs": []
    },
    {
      "cell_type": "code",
      "source": [
        "def NOT_logicFunction(x):\n",
        "    wNOT = -1\n",
        "    bNOT = 0.5\n",
        "    return perceptronModel(x, wNOT, bNOT)"
      ],
      "metadata": {
        "id": "ocnsgpo5T7Gx"
      },
      "execution_count": 4,
      "outputs": []
    },
    {
      "cell_type": "code",
      "source": [
        "def AND_logicFunction(x):\n",
        "    w = np.array([1, 1])\n",
        "    bAND = -1.5\n",
        "    return perceptronModel(x, w, bAND)"
      ],
      "metadata": {
        "id": "9sIXlaneT7KP"
      },
      "execution_count": 5,
      "outputs": []
    },
    {
      "cell_type": "code",
      "source": [
        "def OR_logicFunction(x):\n",
        "    w = np.array([1, 1])\n",
        "    bOR = -0.5\n",
        "    return perceptronModel(x, w, bOR)"
      ],
      "metadata": {
        "id": "oAXn2QOSUMOg"
      },
      "execution_count": 6,
      "outputs": []
    },
    {
      "cell_type": "code",
      "source": [
        "def XOR_logicFunction(x):\n",
        "  y1 = AND_logicFunction(x)\n",
        "  y2 = OR_logicFunction(x)\n",
        "  y3 = NOT_logicFunction(y1)\n",
        "  final_x = np.array([y2, y3])\n",
        "  finalOutput = AND_logicFunction(final_x)\n",
        "  y3 = NOT_logicFunction(y1)\n",
        "  return finalOutput"
      ],
      "metadata": {
        "id": "hRBs_Be8UMSG"
      },
      "execution_count": 7,
      "outputs": []
    },
    {
      "cell_type": "code",
      "source": [
        "test1 = np.array([0, 0])\n",
        "test2 = np.array([0, 1])\n",
        "test3 = np.array([1, 0])\n",
        "test4 = np.array([1, 1])\n",
        "\n",
        "print(\"XOR({}, {}) = {}\".format(0, 0, XOR_logicFunction(test1)))\n",
        "print(\"XOR({}, {}) = {}\".format(0, 1, XOR_logicFunction(test2)))\n",
        "print(\"XOR({}, {}) = {}\".format(1, 0, XOR_logicFunction(test3)))\n",
        "print(\"XOR({}, {}) = {}\".format(1, 1, XOR_logicFunction(test4)))"
      ],
      "metadata": {
        "colab": {
          "base_uri": "https://localhost:8080/"
        },
        "id": "mxZBrtuoUMVm",
        "outputId": "b5d2a2b0-42a8-42f4-f089-924b96f48ad3"
      },
      "execution_count": 8,
      "outputs": [
        {
          "output_type": "stream",
          "name": "stdout",
          "text": [
            "XOR(0, 0) = 0\n",
            "XOR(0, 1) = 1\n",
            "XOR(1, 0) = 1\n",
            "XOR(1, 1) = 0\n"
          ]
        }
      ]
    }
  ]
}