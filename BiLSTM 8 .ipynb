{
  "nbformat": 4,
  "nbformat_minor": 0,
  "metadata": {
    "colab": {
      "provenance": [],
      "authorship_tag": "ABX9TyNiWHHjC4nso/30NlC9qF/I",
      "include_colab_link": true
    },
    "kernelspec": {
      "name": "python3",
      "display_name": "Python 3"
    },
    "language_info": {
      "name": "python"
    }
  },
  "cells": [
    {
      "cell_type": "markdown",
      "metadata": {
        "id": "view-in-github",
        "colab_type": "text"
      },
      "source": [
        "<a href=\"https://colab.research.google.com/github/Darshini-A/Deep-Learning/blob/main/BiLSTM%208%20.ipynb\" target=\"_parent\"><img src=\"https://colab.research.google.com/assets/colab-badge.svg\" alt=\"Open In Colab\"/></a>"
      ]
    },
    {
      "cell_type": "code",
      "source": [
        "# Implement text classification of movie review using BI-LSTM"
      ],
      "metadata": {
        "id": "wKWaq5-_2PSB"
      },
      "execution_count": 15,
      "outputs": []
    },
    {
      "cell_type": "code",
      "source": [
        "import numpy as np\n",
        "from keras.models import Sequential\n",
        "from keras.preprocessing import sequence\n",
        "from keras.layers import Dropout\n",
        "from keras.layers import Dense, Embedding, LSTM, Bidirectional"
      ],
      "metadata": {
        "id": "aQ_Bi8fv2kFj"
      },
      "execution_count": 16,
      "outputs": []
    },
    {
      "cell_type": "code",
      "source": [
        "from keras.datasets import imdb\n",
        "(x_train, y_train), (x_test, y_test) = imdb.load_data(num_words = 10000)"
      ],
      "metadata": {
        "id": "o4duy1aW2oIf"
      },
      "execution_count": 17,
      "outputs": []
    },
    {
      "cell_type": "code",
      "source": [
        "max_len = 200\n",
        "x_train = sequence.pad_sequences(x_train, maxlen = max_len)\n",
        "x_test = sequence.pad_sequences(x_test, maxlen = max_len)\n",
        "y_train = np.array(y_train)\n",
        "y_test = np.array(y_test)"
      ],
      "metadata": {
        "id": "nHb7v2aDts_e"
      },
      "execution_count": 18,
      "outputs": []
    },
    {
      "cell_type": "code",
      "source": [
        "x_train.shape, y_train.shape"
      ],
      "metadata": {
        "colab": {
          "base_uri": "https://localhost:8080/"
        },
        "id": "jPgUpfTx2z6k",
        "outputId": "0228dbca-f92a-472a-f0e3-cd41e3c2b9fc"
      },
      "execution_count": 19,
      "outputs": [
        {
          "output_type": "execute_result",
          "data": {
            "text/plain": [
              "((25000, 200), (25000,))"
            ]
          },
          "metadata": {},
          "execution_count": 19
        }
      ]
    },
    {
      "cell_type": "code",
      "source": [
        "x_test.shape, y_test.shape"
      ],
      "metadata": {
        "colab": {
          "base_uri": "https://localhost:8080/"
        },
        "id": "oFWZJWC126vd",
        "outputId": "92bc8b27-119b-40b4-90db-65b1d3b03f49"
      },
      "execution_count": 20,
      "outputs": [
        {
          "output_type": "execute_result",
          "data": {
            "text/plain": [
              "((25000, 200), (25000,))"
            ]
          },
          "metadata": {},
          "execution_count": 20
        }
      ]
    },
    {
      "cell_type": "code",
      "source": [
        "n_unique_words = 10000\n",
        "\n",
        "model = Sequential()\n",
        "model.add(Embedding(n_unique_words, 128, input_length = max_len))\n",
        "model.add(Bidirectional(LSTM(64)))\n",
        "model.add(Dropout(0.5))\n",
        "model.add(Dense(1, activation = 'sigmoid'))\n",
        "model.compile(loss = 'binary_crossentropy', optimizer = 'adam', metrics = ['accuracy'])"
      ],
      "metadata": {
        "id": "J3ItYGXjvRm1"
      },
      "execution_count": 21,
      "outputs": []
    },
    {
      "cell_type": "code",
      "source": [
        "history = model.fit(x_train, y_train,\n",
        "                    batch_size = 300,\n",
        "                    epochs = 5,\n",
        "                    validation_data = [x_test, y_test])\n",
        "\n",
        "print(history.history['loss'])\n",
        "print(history.history['accuracy'])"
      ],
      "metadata": {
        "id": "EmXG_Y0OvRp-",
        "colab": {
          "base_uri": "https://localhost:8080/"
        },
        "outputId": "3175b33e-035f-4e4c-be58-e96df37e4cf1"
      },
      "execution_count": 22,
      "outputs": [
        {
          "output_type": "stream",
          "name": "stdout",
          "text": [
            "Epoch 1/5\n",
            "84/84 [==============================] - 90s 1s/step - loss: 0.5970 - accuracy: 0.6802 - val_loss: 0.4074 - val_accuracy: 0.8407\n",
            "Epoch 2/5\n",
            "84/84 [==============================] - 104s 1s/step - loss: 0.3065 - accuracy: 0.8783 - val_loss: 0.3418 - val_accuracy: 0.8606\n",
            "Epoch 3/5\n",
            "84/84 [==============================] - 103s 1s/step - loss: 0.2107 - accuracy: 0.9232 - val_loss: 0.3297 - val_accuracy: 0.8670\n",
            "Epoch 4/5\n",
            "84/84 [==============================] - 82s 973ms/step - loss: 0.1615 - accuracy: 0.9440 - val_loss: 0.3353 - val_accuracy: 0.8652\n",
            "Epoch 5/5\n",
            "84/84 [==============================] - 101s 1s/step - loss: 0.1280 - accuracy: 0.9575 - val_loss: 0.3792 - val_accuracy: 0.8645\n",
            "[0.5969709753990173, 0.3065122961997986, 0.21070201694965363, 0.16145704686641693, 0.12800286710262299]\n",
            "[0.6801599860191345, 0.8783199787139893, 0.9232000112533569, 0.9440400004386902, 0.9574800133705139]\n"
          ]
        }
      ]
    },
    {
      "cell_type": "code",
      "source": [
        "from matplotlib import pyplot\n",
        "pyplot.plot(history.history['loss'])\n",
        "pyplot.plot(history.history['accuracy'])\n",
        "pyplot.title('MODEL LOSS vs ACCURACY')\n",
        "pyplot.xlabel('Epoch')\n",
        "pyplot.legend(['Loss', 'Accuracy'], loc = 'upper right')\n",
        "pyplot.show()"
      ],
      "metadata": {
        "id": "0EIgrk-gxsiO",
        "colab": {
          "base_uri": "https://localhost:8080/",
          "height": 472
        },
        "outputId": "d8d394c6-24ff-4c8e-aef4-532725cf8c9c"
      },
      "execution_count": 23,
      "outputs": [
        {
          "output_type": "display_data",
          "data": {
            "text/plain": [
              "<Figure size 640x480 with 1 Axes>"
            ],
            "image/png": "[encoded data removed]"
          },
          "metadata": {}
        }
      ]
    }
  ]
}