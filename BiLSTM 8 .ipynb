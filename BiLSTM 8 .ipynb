{
  "cells": [
    {
      "cell_type": "markdown",
      "metadata": {
        "id": "view-in-github",
        "colab_type": "text"
      },
      "source": [
        "<a href=\"https://colab.research.google.com/github/Darshini-A/Deep-Learning/blob/main/BiLSTM%208%20.ipynb\" target=\"_parent\"><img src=\"https://colab.research.google.com/assets/colab-badge.svg\" alt=\"Open In Colab\"/></a>"
      ]
    },
    {
      "cell_type": "code",
      "execution_count": 1,
      "metadata": {
        "id": "wKWaq5-_2PSB"
      },
      "outputs": [],
      "source": [
        "# Implement text classification of movie review using BI-LSTM"
      ]
    },
    {
      "cell_type": "code",
      "execution_count": 13,
      "metadata": {
        "id": "aQ_Bi8fv2kFj"
      },
      "outputs": [],
      "source": [
        "import numpy as np\n",
        "from keras.datasets import imdb\n",
        "from keras.models import Sequential\n",
        "from keras.preprocessing import sequence\n",
        "from keras.layers import Dropout\n",
        "from keras.layers import Dense, Embedding, LSTM, Bidirectional\n",
        "from matplotlib import pyplot"
      ]
    },
    {
      "cell_type": "code",
      "execution_count": 14,
      "metadata": {
        "id": "o4duy1aW2oIf"
      },
      "outputs": [],
      "source": [
        "(x_train, y_train), (x_test, y_test) = imdb.load_data(num_words = 10000)"
      ]
    },
    {
      "cell_type": "code",
      "execution_count": 4,
      "metadata": {
        "id": "nHb7v2aDts_e"
      },
      "outputs": [],
      "source": [
        "max_len = 200\n",
        "\n",
        "x_train = sequence.pad_sequences(x_train, maxlen = max_len)\n",
        "x_test = sequence.pad_sequences(x_test, maxlen = max_len)\n",
        "y_train = np.array(y_train)\n",
        "y_test = np.array(y_test)"
      ]
    },
    {
      "cell_type": "code",
      "execution_count": 5,
      "metadata": {
        "colab": {
          "base_uri": "https://localhost:8080/"
        },
        "id": "jPgUpfTx2z6k",
        "outputId": "5965c794-1a73-421e-a4a3-8968905dbde9"
      },
      "outputs": [
        {
          "output_type": "execute_result",
          "data": {
            "text/plain": [
              "((25000, 200), (25000,))"
            ]
          },
          "metadata": {},
          "execution_count": 5
        }
      ],
      "source": [
        "x_train.shape, y_train.shape"
      ]
    },
    {
      "cell_type": "code",
      "execution_count": 6,
      "metadata": {
        "colab": {
          "base_uri": "https://localhost:8080/"
        },
        "id": "oFWZJWC126vd",
        "outputId": "6f209bf4-e8a7-4ce4-91e2-cd6b9935d924"
      },
      "outputs": [
        {
          "output_type": "execute_result",
          "data": {
            "text/plain": [
              "((25000, 200), (25000,))"
            ]
          },
          "metadata": {},
          "execution_count": 6
        }
      ],
      "source": [
        "x_test.shape, y_test.shape"
      ]
    },
    {
      "cell_type": "code",
      "execution_count": 7,
      "metadata": {
        "id": "J3ItYGXjvRm1"
      },
      "outputs": [],
      "source": [
        "n_unique_words = 10000\n",
        "\n",
        "model = Sequential()\n",
        "model.add(Embedding(n_unique_words, 128, input_length = max_len))\n",
        "model.add(Bidirectional(LSTM(64)))\n",
        "model.add(Dropout(0.5))\n",
        "model.add(Dense(1, activation = 'sigmoid'))\n",
        "model.compile(loss = 'binary_crossentropy', optimizer = 'adam', metrics = ['accuracy'])"
      ]
    },
    {
      "cell_type": "code",
      "execution_count": 8,
      "metadata": {
        "colab": {
          "base_uri": "https://localhost:8080/"
        },
        "id": "EmXG_Y0OvRp-",
        "outputId": "ee1ffa1e-6053-4bdc-ea2b-cc0af5f55b17"
      },
      "outputs": [
        {
          "output_type": "stream",
          "name": "stdout",
          "text": [
            "Epoch 1/5\n",
            "84/84 [==============================] - 146s 2s/step - loss: 0.5328 - accuracy: 0.7270 - val_loss: 0.3339 - val_accuracy: 0.8590\n",
            "Epoch 2/5\n",
            "84/84 [==============================] - 139s 2s/step - loss: 0.2631 - accuracy: 0.8976 - val_loss: 0.3013 - val_accuracy: 0.8722\n",
            "Epoch 3/5\n",
            "84/84 [==============================] - 140s 2s/step - loss: 0.1883 - accuracy: 0.9326 - val_loss: 0.3140 - val_accuracy: 0.8676\n",
            "Epoch 4/5\n",
            "84/84 [==============================] - 145s 2s/step - loss: 0.1529 - accuracy: 0.9480 - val_loss: 0.3603 - val_accuracy: 0.8576\n",
            "Epoch 5/5\n",
            "84/84 [==============================] - 144s 2s/step - loss: 0.1306 - accuracy: 0.9558 - val_loss: 0.3969 - val_accuracy: 0.8601\n"
          ]
        }
      ],
      "source": [
        "history = model.fit(x_train, y_train,\n",
        "                    batch_size = 300,\n",
        "                    epochs = 5,\n",
        "                    validation_data = [x_test, y_test])"
      ]
    },
    {
      "cell_type": "code",
      "source": [
        "print(history.history['loss'])"
      ],
      "metadata": {
        "colab": {
          "base_uri": "https://localhost:8080/"
        },
        "id": "lAH4P6bA7p5D",
        "outputId": "163459c4-83ac-448b-e518-5c5af31e84cd"
      },
      "execution_count": 10,
      "outputs": [
        {
          "output_type": "stream",
          "name": "stdout",
          "text": [
            "[0.5327879786491394, 0.26314616203308105, 0.18828004598617554, 0.15293610095977783, 0.1305898278951645]\n"
          ]
        }
      ]
    },
    {
      "cell_type": "code",
      "source": [
        "print(history.history['accuracy'])"
      ],
      "metadata": {
        "colab": {
          "base_uri": "https://localhost:8080/"
        },
        "id": "_BWZwuG--trW",
        "outputId": "8e90e366-783f-4b4d-acbf-ce8772afa72c"
      },
      "execution_count": 11,
      "outputs": [
        {
          "output_type": "stream",
          "name": "stdout",
          "text": [
            "[0.7269600033760071, 0.8975600004196167, 0.9325600266456604, 0.9480400085449219, 0.955839991569519]\n"
          ]
        }
      ]
    },
    {
      "cell_type": "code",
      "execution_count": 15,
      "metadata": {
        "colab": {
          "base_uri": "https://localhost:8080/",
          "height": 472
        },
        "id": "0EIgrk-gxsiO",
        "outputId": "0ecb5a63-bd8e-483b-e43c-19dd5c95db2d"
      },
      "outputs": [
        {
          "output_type": "display_data",
          "data": {
            "text/plain": [
              "<Figure size 640x480 with 1 Axes>"
            ],
            "image/png": "[encoded data removed]"
          },
          "metadata": {}
        }
      ],
      "source": [
        "pyplot.plot(history.history['loss'])\n",
        "pyplot.plot(history.history['accuracy'])\n",
        "pyplot.title('MODEL LOSS vs ACCURACY')\n",
        "pyplot.xlabel('Epoch')\n",
        "pyplot.legend(['Loss', 'Accuracy'], loc = 'upper right')\n",
        "pyplot.show()"
      ]
    }
  ],
  "metadata": {
    "colab": {
      "provenance": [],
      "authorship_tag": "ABX9TyNZT0Y31SkqaVktNFTrcSf0",
      "include_colab_link": true
    },
    "kernelspec": {
      "display_name": "Python 3",
      "name": "python3"
    },
    "language_info": {
      "name": "python"
    }
  },
  "nbformat": 4,
  "nbformat_minor": 0
}