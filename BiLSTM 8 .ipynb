{
  "nbformat": 4,
  "nbformat_minor": 0,
  "metadata": {
    "colab": {
      "provenance": [],
      "gpuType": "T4",
      "authorship_tag": "ABX9TyOuJVq5SoZILMbCg0ezBD0K",
      "include_colab_link": true
    },
    "kernelspec": {
      "name": "python3",
      "display_name": "Python 3"
    },
    "language_info": {
      "name": "python"
    },
    "accelerator": "GPU"
  },
  "cells": [
    {
      "cell_type": "markdown",
      "metadata": {
        "id": "view-in-github",
        "colab_type": "text"
      },
      "source": [
        "<a href=\"https://colab.research.google.com/github/Darshini-A/Deep-Learning/blob/main/BiLSTM%208%20.ipynb\" target=\"_parent\"><img src=\"https://colab.research.google.com/assets/colab-badge.svg\" alt=\"Open In Colab\"/></a>"
      ]
    },
    {
      "cell_type": "code",
      "execution_count": 19,
      "metadata": {
        "id": "QqC3drnZr6sB"
      },
      "outputs": [],
      "source": [
        "import numpy as np\n",
        "from keras.models import Sequential\n",
        "from keras.preprocessing import sequence\n",
        "from keras.layers import Dropout\n",
        "from keras.layers import Dense, Embedding, LSTM, Bidirectional"
      ]
    },
    {
      "cell_type": "code",
      "source": [
        "from keras.datasets import imdb\n",
        "(x_train, y_train), (x_test, y_test) = imdb.load_data(num_words = 10000)"
      ],
      "metadata": {
        "id": "kyANTj-Bts74"
      },
      "execution_count": 20,
      "outputs": []
    },
    {
      "cell_type": "code",
      "source": [
        "max_len = 200\n",
        "x_train = sequence.pad_sequences(x_train, maxlen = max_len)\n",
        "x_test = sequence.pad_sequences(x_test, maxlen = max_len)\n",
        "y_train = np.array(y_train)\n",
        "y_test = np.array(y_test)"
      ],
      "metadata": {
        "id": "nHb7v2aDts_e"
      },
      "execution_count": 21,
      "outputs": []
    },
    {
      "cell_type": "code",
      "source": [
        "x_train.shape, y_train.shape"
      ],
      "metadata": {
        "colab": {
          "base_uri": "https://localhost:8080/"
        },
        "id": "NYGIBgjkvJEB",
        "outputId": "f531c0b1-abdd-4b0a-e5b0-f31af61ac7a1"
      },
      "execution_count": 22,
      "outputs": [
        {
          "output_type": "execute_result",
          "data": {
            "text/plain": [
              "((25000, 200), (25000,))"
            ]
          },
          "metadata": {},
          "execution_count": 22
        }
      ]
    },
    {
      "cell_type": "code",
      "source": [
        "x_test.shape, y_test.shape"
      ],
      "metadata": {
        "colab": {
          "base_uri": "https://localhost:8080/"
        },
        "id": "U1sg5XQbvJOW",
        "outputId": "24a1857c-b91d-45d0-939a-04cc248ecbd4"
      },
      "execution_count": 23,
      "outputs": [
        {
          "output_type": "execute_result",
          "data": {
            "text/plain": [
              "((25000, 200), (25000,))"
            ]
          },
          "metadata": {},
          "execution_count": 23
        }
      ]
    },
    {
      "cell_type": "code",
      "source": [
        "n_unique_words = 10000\n",
        "\n",
        "model = Sequential()\n",
        "model.add(Embedding(n_unique_words, 128, input_length = max_len))\n",
        "model.add(Bidirectional(LSTM(64)))\n",
        "model.add(Dropout(0.5))\n",
        "model.add(Dense(1, activation = 'sigmoid'))\n",
        "model.compile(loss = 'binary_crossentropy', optimizer = 'adam', metrics = ['accuracy'])"
      ],
      "metadata": {
        "id": "J3ItYGXjvRm1"
      },
      "execution_count": 24,
      "outputs": []
    },
    {
      "cell_type": "code",
      "source": [
        "batch_size = 300\n",
        "\n",
        "history = model.fit(x_train, y_train,\n",
        "                    batch_size = batch_size,\n",
        "                    epochs = 5,\n",
        "                    validation_data = [x_test, y_test])\n",
        "\n",
        "print(history.history['loss'])\n",
        "print(history.history['accuracy'])"
      ],
      "metadata": {
        "colab": {
          "base_uri": "https://localhost:8080/"
        },
        "id": "EmXG_Y0OvRp-",
        "outputId": "4995cfbb-e541-4230-b8bc-82dc06645588"
      },
      "execution_count": 25,
      "outputs": [
        {
          "output_type": "stream",
          "name": "stdout",
          "text": [
            "Epoch 1/5\n",
            "84/84 [==============================] - 15s 145ms/step - loss: 0.5007 - accuracy: 0.7400 - val_loss: 0.3183 - val_accuracy: 0.8663\n",
            "Epoch 2/5\n",
            "84/84 [==============================] - 9s 107ms/step - loss: 0.2623 - accuracy: 0.9003 - val_loss: 0.3304 - val_accuracy: 0.8588\n",
            "Epoch 3/5\n",
            "84/84 [==============================] - 7s 83ms/step - loss: 0.1971 - accuracy: 0.9306 - val_loss: 0.3343 - val_accuracy: 0.8665\n",
            "Epoch 4/5\n",
            "84/84 [==============================] - 6s 70ms/step - loss: 0.1413 - accuracy: 0.9520 - val_loss: 0.3600 - val_accuracy: 0.8570\n",
            "Epoch 5/5\n",
            "84/84 [==============================] - 5s 57ms/step - loss: 0.1328 - accuracy: 0.9537 - val_loss: 0.4210 - val_accuracy: 0.8543\n",
            "[0.5007269382476807, 0.26229459047317505, 0.1970617026090622, 0.14126327633857727, 0.13281454145908356]\n",
            "[0.7400000095367432, 0.9003199934959412, 0.9305599927902222, 0.9520000219345093, 0.953719973564148]\n"
          ]
        }
      ]
    },
    {
      "cell_type": "code",
      "source": [
        "from matplotlib import pyplot\n",
        "pyplot.plot(history.history['loss'])\n",
        "pyplot.plot(history.history['accuracy'])\n",
        "pyplot.title('MODEL LOSS vs ACCURACY')\n",
        "pyplot.xlabel('Epoch')\n",
        "pyplot.legend(['Loss', 'Accuracy'], loc = 'upper right')\n",
        "pyplot.show()"
      ],
      "metadata": {
        "colab": {
          "base_uri": "https://localhost:8080/",
          "height": 472
        },
        "id": "0EIgrk-gxsiO",
        "outputId": "9573c547-6921-4960-d583-2d502bbab115"
      },
      "execution_count": 26,
      "outputs": [
        {
          "output_type": "display_data",
          "data": {
            "text/plain": [
              "<Figure size 640x480 with 1 Axes>"
            ],
            "image/png": "[encoded data removed]"
          },
          "metadata": {}
        }
      ]
    }
  ]
}