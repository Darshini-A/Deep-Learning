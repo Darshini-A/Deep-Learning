{
  "nbformat": 4,
  "nbformat_minor": 0,
  "metadata": {
    "colab": {
      "provenance": [],
      "authorship_tag": "ABX9TyMq0mKGK8xvtXwyeXsBQg+D",
      "include_colab_link": true
    },
    "kernelspec": {
      "name": "python3",
      "display_name": "Python 3"
    },
    "language_info": {
      "name": "python"
    }
  },
  "cells": [
    {
      "cell_type": "markdown",
      "metadata": {
        "id": "view-in-github",
        "colab_type": "text"
      },
      "source": [
        "<a href=\"https://colab.research.google.com/github/Darshini-A/Deep-Learning/blob/main/BinaryClassification%203%20.ipynb\" target=\"_parent\"><img src=\"https://colab.research.google.com/assets/colab-badge.svg\" alt=\"Open In Colab\"/></a>"
      ]
    },
    {
      "cell_type": "code",
      "source": [
        "# Implementing deep neural network for performing binary classification task"
      ],
      "metadata": {
        "id": "bat_GLmgNTYX"
      },
      "execution_count": 5,
      "outputs": []
    },
    {
      "cell_type": "code",
      "source": [
        "!pip install keras==2.12.0"
      ],
      "metadata": {
        "colab": {
          "base_uri": "https://localhost:8080/"
        },
        "id": "Ra7PoZYgld0N",
        "outputId": "ac0c16d1-8ddf-42a8-dc99-907a3ce6b7af"
      },
      "execution_count": 6,
      "outputs": [
        {
          "output_type": "stream",
          "name": "stdout",
          "text": [
            "Requirement already satisfied: keras==2.12.0 in /usr/local/lib/python3.10/dist-packages (2.12.0)\n"
          ]
        }
      ]
    },
    {
      "cell_type": "code",
      "execution_count": 7,
      "metadata": {
        "id": "WGbD3WS7k2TP"
      },
      "outputs": [],
      "source": [
        "import pandas as pd\n",
        "from keras.models import Sequential\n",
        "from keras.layers import Dense\n",
        "from keras.wrappers.scikit_learn import KerasClassifier\n",
        "from sklearn.model_selection import cross_val_score\n",
        "from sklearn.preprocessing import LabelEncoder\n",
        "from sklearn.model_selection import StratifiedKFold\n",
        "from sklearn.preprocessing import StandardScaler\n",
        "from sklearn.pipeline import Pipeline"
      ]
    },
    {
      "cell_type": "code",
      "source": [
        "dataframe = pd.read_csv(\"/content/sonar - BinaryClassification .all-data\", header = None)\n",
        "dataset = dataframe.values\n",
        "\n",
        "X = dataset[:, 0:60].astype(float)\n",
        "Y = dataset[:,60]"
      ],
      "metadata": {
        "id": "Vhms97n-lGu3"
      },
      "execution_count": null,
      "outputs": []
    },
    {
      "cell_type": "code",
      "source": [
        "encoder = LabelEncoder()\n",
        "encoder_Y = encoder.fit_transform(Y)"
      ],
      "metadata": {
        "id": "8m2G9dsAlGyF"
      },
      "execution_count": 9,
      "outputs": []
    },
    {
      "cell_type": "code",
      "source": [
        "# Baseline model\n",
        "\n",
        "def create_baseline():\n",
        "  model = Sequential()\n",
        "  model.add(Dense(60, input_dim = 60, activation = 'relu'))\n",
        "  model.add(Dense(1, activation = 'sigmoid'))\n",
        "  model.compile(loss = 'binary_crossentropy', optimizer = 'adam', metrics = ['accuracy'])\n",
        "  return model\n",
        "\n",
        "estimator = KerasClassifier(build_fn = create_baseline, epochs = 100, batch_size = 5, verbose = 0)\n",
        "kfold = StratifiedKFold(n_splits = 10, shuffle = True)\n",
        "results = cross_val_score(estimator, X, encoder_Y, cv = kfold)\n",
        "print('Baseline : %.2f%% (%.2f%%)' % (results.mean()*100, results.std()*100))"
      ],
      "metadata": {
        "id": "94UzoGJ8lG15",
        "colab": {
          "base_uri": "https://localhost:8080/"
        },
        "outputId": "b00308ec-e2ca-44dd-9cf1-6666ea4df5c4"
      },
      "execution_count": 10,
      "outputs": [
        {
          "output_type": "stream",
          "name": "stderr",
          "text": [
            "<ipython-input-10-c9119da9ef8b>:10: DeprecationWarning: KerasClassifier is deprecated, use Sci-Keras (https://github.com/adriangb/scikeras) instead. See https://www.adriangb.com/scikeras/stable/migration.html for help migrating.\n",
            "  estimator = KerasClassifier(build_fn = create_baseline, epochs = 100, batch_size = 5, verbose = 0)\n"
          ]
        },
        {
          "output_type": "stream",
          "name": "stdout",
          "text": [
            "Baseline : 85.07% (7.57%)\n"
          ]
        }
      ]
    },
    {
      "cell_type": "code",
      "source": [
        "# Baseline model with standardized dataset\n",
        "\n",
        "estimators = []\n",
        "estimators.append(('standardize', StandardScaler()))\n",
        "estimators.append(('mlp', KerasClassifier(build_fn = create_baseline, epochs = 100, batch_size = 5, verbose = 0)))\n",
        "pipeline = Pipeline(estimators)\n",
        "kfold = StratifiedKFold(n_splits = 10, shuffle = True)\n",
        "results = cross_val_score(pipeline, X, encoder_Y, cv = kfold)\n",
        "print(\"Standardized : %.2f%% (%.2f%%)\" % (results.mean()*100, results.std()*100))"
      ],
      "metadata": {
        "id": "gSU2LvCelG9H",
        "colab": {
          "base_uri": "https://localhost:8080/"
        },
        "outputId": "f4e204a7-1e7f-44cd-97b2-6c2ad4124688"
      },
      "execution_count": 11,
      "outputs": [
        {
          "output_type": "stream",
          "name": "stderr",
          "text": [
            "<ipython-input-11-514ff4b8dde6>:5: DeprecationWarning: KerasClassifier is deprecated, use Sci-Keras (https://github.com/adriangb/scikeras) instead. See https://www.adriangb.com/scikeras/stable/migration.html for help migrating.\n",
            "  estimators.append(('mlp', KerasClassifier(build_fn = create_baseline, epochs = 100, batch_size = 5, verbose = 0)))\n"
          ]
        },
        {
          "output_type": "stream",
          "name": "stdout",
          "text": [
            "Standardized : 87.50% (3.82%)\n"
          ]
        }
      ]
    },
    {
      "cell_type": "code",
      "source": [
        "# Smaller model\n",
        "\n",
        "def create_smaller():\n",
        "\tmodel = Sequential()\n",
        "\tmodel.add(Dense(30, input_dim = 60, activation = 'relu'))\n",
        "\tmodel.add(Dense(1, activation = 'sigmoid'))\n",
        "\tmodel.compile(loss = 'binary_crossentropy', optimizer = 'adam', metrics = ['accuracy'])\n",
        "\treturn model\n",
        "\n",
        "estimators = []\n",
        "estimators.append(('standardize', StandardScaler()))\n",
        "estimators.append(('mlp', KerasClassifier(build_fn = create_smaller, epochs = 100, batch_size = 5, verbose = 0)))\n",
        "pipeline = Pipeline(estimators)\n",
        "kfold = StratifiedKFold(n_splits = 10, shuffle = True)\n",
        "results = cross_val_score(pipeline, X, encoder_Y, cv = kfold)\n",
        "print(\"Smaller : %.2f%% (%.2f%%)\" % (results.mean()*100, results.std()*100))"
      ],
      "metadata": {
        "id": "BQuc0i3AR_Uo",
        "colab": {
          "base_uri": "https://localhost:8080/"
        },
        "outputId": "38062768-ca56-4726-876a-c53314b1f2eb"
      },
      "execution_count": 12,
      "outputs": [
        {
          "output_type": "stream",
          "name": "stderr",
          "text": [
            "<ipython-input-12-03e7377f1447>:12: DeprecationWarning: KerasClassifier is deprecated, use Sci-Keras (https://github.com/adriangb/scikeras) instead. See https://www.adriangb.com/scikeras/stable/migration.html for help migrating.\n",
            "  estimators.append(('mlp', KerasClassifier(build_fn = create_smaller, epochs = 100, batch_size = 5, verbose = 0)))\n"
          ]
        },
        {
          "output_type": "stream",
          "name": "stdout",
          "text": [
            "Smaller : 89.45% (5.10%)\n"
          ]
        }
      ]
    },
    {
      "cell_type": "code",
      "source": [
        "# Larger model\n",
        "\n",
        "def create_larger():\n",
        "\tmodel = Sequential()\n",
        "\tmodel.add(Dense(60, input_dim = 60, activation = 'relu'))\n",
        "\tmodel.add(Dense(30, activation='relu'))\n",
        "\tmodel.add(Dense(1, activation='sigmoid'))\n",
        "\tmodel.compile(loss = 'binary_crossentropy', optimizer = 'adam', metrics = ['accuracy'])\n",
        "\treturn model\n",
        "\n",
        "estimators = []\n",
        "estimators.append(('standardize', StandardScaler()))\n",
        "estimators.append(('mlp', KerasClassifier(build_fn = create_larger, epochs = 100, batch_size = 5, verbose = 0)))\n",
        "pipeline = Pipeline(estimators)\n",
        "kfold = StratifiedKFold(n_splits = 10, shuffle = True)\n",
        "results = cross_val_score(pipeline, X, encoder_Y, cv = kfold)\n",
        "print(\"Larger : %.2f%% (%.2f%%)\" % (results.mean()*100, results.std()*100))"
      ],
      "metadata": {
        "id": "0IJ9jSUER_fJ",
        "colab": {
          "base_uri": "https://localhost:8080/"
        },
        "outputId": "fd60a82b-1083-42f7-cfad-cf2f64f7f345"
      },
      "execution_count": 13,
      "outputs": [
        {
          "output_type": "stream",
          "name": "stderr",
          "text": [
            "<ipython-input-13-0e7f9bfaa3fa>:13: DeprecationWarning: KerasClassifier is deprecated, use Sci-Keras (https://github.com/adriangb/scikeras) instead. See https://www.adriangb.com/scikeras/stable/migration.html for help migrating.\n",
            "  estimators.append(('mlp', KerasClassifier(build_fn = create_larger, epochs = 100, batch_size = 5, verbose = 0)))\n"
          ]
        },
        {
          "output_type": "stream",
          "name": "stdout",
          "text": [
            "Larger : 86.55% (6.65%)\n"
          ]
        }
      ]
    }
  ]
}