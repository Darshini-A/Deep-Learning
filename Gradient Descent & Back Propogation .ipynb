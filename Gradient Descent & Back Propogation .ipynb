{
  "nbformat": 4,
  "nbformat_minor": 0,
  "metadata": {
    "colab": {
      "provenance": [],
      "authorship_tag": "ABX9TyMcCRQjv13aBxYhDVdAwMkm",
      "include_colab_link": true
    },
    "kernelspec": {
      "name": "python3",
      "display_name": "Python 3"
    },
    "language_info": {
      "name": "python"
    }
  },
  "cells": [
    {
      "cell_type": "markdown",
      "metadata": {
        "id": "view-in-github",
        "colab_type": "text"
      },
      "source": [
        "<a href=\"https://colab.research.google.com/github/Darshini-A/Deep-Learning/blob/main/GradientDescent%20%2C%20BackPropogation%201%20.ipynb\" target=\"_parent\"><img src=\"https://colab.research.google.com/assets/colab-badge.svg\" alt=\"Open In Colab\"/></a>"
      ]
    },
    {
      "cell_type": "code",
      "execution_count": 55,
      "metadata": {
        "id": "EzucxI7musJf"
      },
      "outputs": [],
      "source": [
        "# Demonstrate Gradient descent and the back propagation algorithm"
      ]
    },
    {
      "cell_type": "code",
      "source": [
        "# Solving using basic function"
      ],
      "metadata": {
        "id": "YZnF9Wv1uwr2"
      },
      "execution_count": 56,
      "outputs": []
    },
    {
      "cell_type": "code",
      "source": [
        "import numpy as np\n",
        "import matplotlib.pyplot as plt"
      ],
      "metadata": {
        "id": "G3ll038Luwu_"
      },
      "execution_count": 57,
      "outputs": []
    },
    {
      "cell_type": "code",
      "source": [
        "np.random.seed(42)\n",
        "X = np.random.rand(2, 100)\n",
        "Y = np.random.randint(0, 2, (1, 100))"
      ],
      "metadata": {
        "id": "Ky2h7NiRuwx2"
      },
      "execution_count": 58,
      "outputs": []
    },
    {
      "cell_type": "code",
      "source": [
        "input_size = X.shape[0]\n",
        "hidden_size = 4\n",
        "output_size = 1\n",
        "learning_rate = 0.01\n",
        "epochs = 1000"
      ],
      "metadata": {
        "id": "H35mL9bmuw0q"
      },
      "execution_count": 59,
      "outputs": []
    },
    {
      "cell_type": "code",
      "source": [
        "def sigmoid(x):\n",
        "    return 1 / (1 + np.exp(-x))\n",
        "\n",
        "def sigmoid_derivative(x):\n",
        "    return x * (1 - x)"
      ],
      "metadata": {
        "id": "bJbFFTC0uw4W"
      },
      "execution_count": 60,
      "outputs": []
    },
    {
      "cell_type": "code",
      "source": [
        "def initialize_parameters(input_size, hidden_size, output_size):\n",
        "    np.random.seed(42)\n",
        "    W_hidden = np.random.rand(hidden_size, input_size)\n",
        "    b_hidden = np.zeros((hidden_size, 1))\n",
        "    W_output = np.random.rand(output_size, hidden_size)\n",
        "    b_output = np.zeros((output_size, 1))\n",
        "    return W_hidden, b_hidden, W_output, b_output"
      ],
      "metadata": {
        "id": "ptOiLoZf5txc"
      },
      "execution_count": 61,
      "outputs": []
    },
    {
      "cell_type": "code",
      "source": [
        "def forward_propagation(X, W_hidden, b_hidden, W_output, b_output):\n",
        "    Z_hidden = np.dot(W_hidden, X) + b_hidden\n",
        "    A_hidden = sigmoid(Z_hidden)\n",
        "    Z_output = np.dot(W_output, A_hidden) + b_output\n",
        "    A_output = sigmoid(Z_output)\n",
        "    return Z_hidden, A_hidden, Z_output, A_output"
      ],
      "metadata": {
        "id": "HAvM8VFx2aDk"
      },
      "execution_count": 62,
      "outputs": []
    },
    {
      "cell_type": "code",
      "source": [
        "def compute_loss(A_output, Y):\n",
        "    m = Y.shape[1]\n",
        "    loss = - (1 / m) * np.sum(Y * np.log(A_output) + (1 - Y) * np.log(1 - A_output))\n",
        "    return loss"
      ],
      "metadata": {
        "id": "QDx218-v2Z6k"
      },
      "execution_count": 63,
      "outputs": []
    },
    {
      "cell_type": "code",
      "source": [
        "def backward_propagation(X, Y, Z_hidden, A_hidden, Z_output, A_output, W_output):\n",
        "    m = Y.shape[1]\n",
        "\n",
        "    dZ_output = A_output - Y\n",
        "    dW_output = (1 / m) * np.dot(dZ_output, A_hidden.T)\n",
        "    db_output = (1 / m) * np.sum(dZ_output, axis=1, keepdims=True)\n",
        "\n",
        "    dZ_hidden = np.dot(W_output.T, dZ_output) * sigmoid_derivative(A_hidden)\n",
        "    dW_hidden = (1 / m) * np.dot(dZ_hidden, X.T)\n",
        "    db_hidden = (1 / m) * np.sum(dZ_hidden, axis=1, keepdims=True)\n",
        "\n",
        "    return dW_hidden, db_hidden, dW_output, db_output"
      ],
      "metadata": {
        "id": "sho3wFnc2Z3H"
      },
      "execution_count": 64,
      "outputs": []
    },
    {
      "cell_type": "code",
      "source": [
        "def update_parameters(W_hidden, b_hidden, W_output, b_output, dW_hidden, db_hidden, dW_output, db_output, learning_rate):\n",
        "    W_hidden -= learning_rate * dW_hidden\n",
        "    b_hidden -= learning_rate * db_hidden\n",
        "    W_output -= learning_rate * dW_output\n",
        "    b_output -= learning_rate * db_output\n",
        "    return W_hidden, b_hidden, W_output, b_output"
      ],
      "metadata": {
        "id": "_LJxAOPR2Zya"
      },
      "execution_count": 65,
      "outputs": []
    },
    {
      "cell_type": "code",
      "source": [
        "def train_neural_network(X, Y, hidden_size, output_size, learning_rate, epochs):\n",
        "    input_size = X.shape[0]\n",
        "    W_hidden, b_hidden, W_output, b_output = initialize_parameters(input_size, hidden_size, output_size)\n",
        "\n",
        "    for epoch in range(epochs):\n",
        "        # Forward propagation\n",
        "        Z_hidden, A_hidden, Z_output, A_output = forward_propagation(X, W_hidden, b_hidden, W_output, b_output)\n",
        "\n",
        "        # Compute loss\n",
        "        loss = compute_loss(A_output, Y)\n",
        "\n",
        "        # Backward propagation\n",
        "        dW_hidden, db_hidden, dW_output, db_output = backward_propagation(X, Y, Z_hidden, A_hidden, Z_output, A_output, W_output)\n",
        "\n",
        "        # Update parameters\n",
        "        W_hidden, b_hidden, W_output, b_output = update_parameters(W_hidden, b_hidden, W_output, b_output, dW_hidden, db_hidden, dW_output, db_output, learning_rate)\n",
        "\n",
        "        # Print the loss every 100 epochs\n",
        "        if epoch % 100 == 0:\n",
        "            print(f\"Epoch {epoch}, Loss: {loss}\")\n",
        "\n",
        "    return W_hidden, b_hidden, W_output, b_output"
      ],
      "metadata": {
        "id": "taJUnYhf2pZ4"
      },
      "execution_count": 66,
      "outputs": []
    },
    {
      "cell_type": "code",
      "source": [
        "# Train the neural network\n",
        "trained_parameters = train_neural_network(X, Y, hidden_size, output_size, learning_rate, epochs)\n",
        "\n",
        "# Test the trained network with new data\n",
        "def predict(X, W_hidden, b_hidden, W_output, b_output):\n",
        "    _, _, _, A_output = forward_propagation(X, W_hidden, b_hidden, W_output, b_output)\n",
        "    predictions = (A_output > 0.5).astype(int)\n",
        "    return predictions"
      ],
      "metadata": {
        "colab": {
          "base_uri": "https://localhost:8080/"
        },
        "id": "UGjf4t002pcy",
        "outputId": "90a0e4a1-2765-4268-bb0b-9ee0c3ca2b23"
      },
      "execution_count": 67,
      "outputs": [
        {
          "output_type": "stream",
          "name": "stdout",
          "text": [
            "Epoch 0, Loss: 0.8736023253758296\n",
            "Epoch 100, Loss: 0.7532757451668407\n",
            "Epoch 200, Loss: 0.7112029721695292\n",
            "Epoch 300, Loss: 0.6980654752546296\n",
            "Epoch 400, Loss: 0.6941216965070645\n",
            "Epoch 500, Loss: 0.6929334771355903\n",
            "Epoch 600, Loss: 0.6925538592701413\n",
            "Epoch 700, Loss: 0.692409845257748\n",
            "Epoch 800, Loss: 0.6923345111683213\n",
            "Epoch 900, Loss: 0.6922794249507496\n"
          ]
        }
      ]
    },
    {
      "cell_type": "code",
      "source": [
        "# Generate new test data\n",
        "X_test = np.random.rand(2, 10)\n",
        "predictions = predict(X_test, *trained_parameters)\n",
        "\n",
        "print(f'Predictions : \\n{predictions}')"
      ],
      "metadata": {
        "colab": {
          "base_uri": "https://localhost:8080/"
        },
        "id": "tpNjdD0I2pf7",
        "outputId": "0721a3b8-a16d-46d2-d9bc-e2a5c6dee1ca"
      },
      "execution_count": 68,
      "outputs": [
        {
          "output_type": "stream",
          "name": "stdout",
          "text": [
            "Predictions : \n",
            "[[1 1 1 1 1 1 1 1 1 1]]\n"
          ]
        }
      ]
    },
    {
      "cell_type": "code",
      "source": [],
      "metadata": {
        "id": "rFAkAUUP2pit"
      },
      "execution_count": 68,
      "outputs": []
    },
    {
      "cell_type": "code",
      "source": [
        "# Solving using tensorflow framework"
      ],
      "metadata": {
        "id": "uG8SlLWe2pmN"
      },
      "execution_count": 69,
      "outputs": []
    },
    {
      "cell_type": "code",
      "source": [
        "import tensorflow as tf\n",
        "import numpy as np"
      ],
      "metadata": {
        "id": "34DJzmjz27gy"
      },
      "execution_count": 70,
      "outputs": []
    },
    {
      "cell_type": "code",
      "source": [
        "np.random.seed(42)\n",
        "X = np.random.rand(100, 2)\n",
        "Y = np.random.randint(0, 2, (100, 1))"
      ],
      "metadata": {
        "id": "W4T94fmT27jq"
      },
      "execution_count": 71,
      "outputs": []
    },
    {
      "cell_type": "code",
      "source": [
        "input_size = 2\n",
        "hidden_size = 4\n",
        "output_size = 1\n",
        "learning_rate = 0.01\n",
        "epochs = 1000"
      ],
      "metadata": {
        "id": "FT9VM3gJ27mm"
      },
      "execution_count": 72,
      "outputs": []
    },
    {
      "cell_type": "code",
      "source": [
        "model = tf.keras.Sequential([\n",
        "    tf.keras.layers.Dense(hidden_size, activation='sigmoid', input_shape=(input_size,), name='hidden_layer'),\n",
        "    tf.keras.layers.Dense(output_size, activation='sigmoid', name='output_layer')\n",
        "])\n",
        "\n",
        "model.summary()"
      ],
      "metadata": {
        "colab": {
          "base_uri": "https://localhost:8080/"
        },
        "id": "qVoBTH1w27po",
        "outputId": "6156c51b-e482-42ae-9ce3-e20ce7335110"
      },
      "execution_count": 73,
      "outputs": [
        {
          "output_type": "stream",
          "name": "stdout",
          "text": [
            "Model: \"sequential_2\"\n",
            "_________________________________________________________________\n",
            " Layer (type)                Output Shape              Param #   \n",
            "=================================================================\n",
            " hidden_layer (Dense)        (None, 4)                 12        \n",
            "                                                                 \n",
            " output_layer (Dense)        (None, 1)                 5         \n",
            "                                                                 \n",
            "=================================================================\n",
            "Total params: 17 (68.00 Byte)\n",
            "Trainable params: 17 (68.00 Byte)\n",
            "Non-trainable params: 0 (0.00 Byte)\n",
            "_________________________________________________________________\n"
          ]
        }
      ]
    },
    {
      "cell_type": "code",
      "source": [
        "model.compile(optimizer = tf.keras.optimizers.SGD(learning_rate=learning_rate),\n",
        "              loss = tf.keras.losses.BinaryCrossentropy(),\n",
        "              metrics = ['accuracy'])\n",
        "\n",
        "# Train the model\n",
        "history = model.fit(X, Y, epochs=epochs, verbose=0)"
      ],
      "metadata": {
        "id": "nIVzpxyE3ffU"
      },
      "execution_count": 74,
      "outputs": []
    },
    {
      "cell_type": "code",
      "source": [
        "loss, accuracy = model.evaluate(X, Y)\n",
        "print(f'\\nFinal Loss : {loss}, \\nFinal Accuracy : {accuracy}')"
      ],
      "metadata": {
        "colab": {
          "base_uri": "https://localhost:8080/"
        },
        "id": "OHANsGJi27sb",
        "outputId": "c13ed832-b621-4490-fcb0-5f21aeebc842"
      },
      "execution_count": 75,
      "outputs": [
        {
          "output_type": "stream",
          "name": "stdout",
          "text": [
            "4/4 [==============================] - 0s 4ms/step - loss: 0.6875 - accuracy: 0.5500\n",
            "\n",
            "Final Loss : 0.6874712109565735, \n",
            "Final Accuracy : 0.550000011920929\n"
          ]
        }
      ]
    },
    {
      "cell_type": "code",
      "source": [
        "plt.plot(history.history['loss'])\n",
        "plt.title('MODEL LOSS')\n",
        "plt.xlabel('Epoch')\n",
        "plt.ylabel('Loss')\n",
        "plt.show()"
      ],
      "metadata": {
        "colab": {
          "base_uri": "https://localhost:8080/",
          "height": 472
        },
        "id": "rI8HfWMB27v1",
        "outputId": "143bd434-6794-4b4f-ce5b-4582f8bfe591"
      },
      "execution_count": 76,
      "outputs": [
        {
          "output_type": "display_data",
          "data": {
            "text/plain": [
              "<Figure size 640x480 with 1 Axes>"
            ],
            "image/png": "[encoded data removed]"
          },
          "metadata": {}
        }
      ]
    },
    {
      "cell_type": "code",
      "source": [
        "# Test the trained model with new data\n",
        "X_test = np.random.rand(10, 2)\n",
        "predictions = model.predict(X_test)\n",
        "binary_predictions = (predictions > 0.5).astype(int)\n",
        "\n",
        "print(f'Predictions : \\n{binary_predictions}')"
      ],
      "metadata": {
        "colab": {
          "base_uri": "https://localhost:8080/"
        },
        "id": "QcHMEdGx36OV",
        "outputId": "5d85f64e-c66d-42af-ff7b-6a2b3282545a"
      },
      "execution_count": 77,
      "outputs": [
        {
          "output_type": "stream",
          "name": "stdout",
          "text": [
            "1/1 [==============================] - 0s 59ms/step\n",
            "Predictions : \n",
            "[[1]\n",
            " [1]\n",
            " [1]\n",
            " [1]\n",
            " [1]\n",
            " [1]\n",
            " [1]\n",
            " [1]\n",
            " [1]\n",
            " [1]]\n"
          ]
        }
      ]
    }
  ]
}
