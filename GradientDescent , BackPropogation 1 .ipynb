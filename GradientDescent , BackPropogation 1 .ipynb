{
  "nbformat": 4,
  "nbformat_minor": 0,
  "metadata": {
    "colab": {
      "provenance": [],
      "authorship_tag": "ABX9TyODTWe5sCOF5LvyToYHZBWT",
      "include_colab_link": true
    },
    "kernelspec": {
      "name": "python3",
      "display_name": "Python 3"
    },
    "language_info": {
      "name": "python"
    }
  },
  "cells": [
    {
      "cell_type": "markdown",
      "metadata": {
        "id": "view-in-github",
        "colab_type": "text"
      },
      "source": [
        "<a href=\"https://colab.research.google.com/github/Darshini-A/Deep-Learning/blob/main/GradientDescent%20%2C%20BackPropogation%201%20.ipynb\" target=\"_parent\"><img src=\"https://colab.research.google.com/assets/colab-badge.svg\" alt=\"Open In Colab\"/></a>"
      ]
    },
    {
      "cell_type": "code",
      "execution_count": 103,
      "metadata": {
        "id": "EzucxI7musJf"
      },
      "outputs": [],
      "source": [
        "# Demonstrate Gradient descent and the back propagation algorithm"
      ]
    },
    {
      "cell_type": "code",
      "source": [
        "# Solving using basic function"
      ],
      "metadata": {
        "id": "YZnF9Wv1uwr2"
      },
      "execution_count": 104,
      "outputs": []
    },
    {
      "cell_type": "code",
      "source": [
        "import numpy as np\n",
        "import matplotlib.pyplot as plt"
      ],
      "metadata": {
        "id": "G3ll038Luwu_"
      },
      "execution_count": 105,
      "outputs": []
    },
    {
      "cell_type": "code",
      "source": [
        "np.random.seed(42)\n",
        "X = np.random.rand(2, 100)\n",
        "Y = np.random.randint(0, 2, (1, 100))"
      ],
      "metadata": {
        "id": "Ky2h7NiRuwx2"
      },
      "execution_count": 106,
      "outputs": []
    },
    {
      "cell_type": "code",
      "source": [
        "input_size = X.shape[0]\n",
        "hidden_size = 4\n",
        "output_size = 1\n",
        "learning_rate = 0.01\n",
        "epochs = 1000"
      ],
      "metadata": {
        "id": "H35mL9bmuw0q"
      },
      "execution_count": 107,
      "outputs": []
    },
    {
      "cell_type": "code",
      "source": [
        "def sigmoid(x):\n",
        "    return 1 / (1 + np.exp(-x))\n",
        "\n",
        "def sigmoid_derivative(x):\n",
        "    return x * (1 - x)"
      ],
      "metadata": {
        "id": "bJbFFTC0uw4W"
      },
      "execution_count": 108,
      "outputs": []
    },
    {
      "cell_type": "code",
      "source": [
        "def initialize_parameters(input_size, hidden_size, output_size):\n",
        "    np.random.seed(42)\n",
        "    W_hidden = np.random.rand(hidden_size, input_size)\n",
        "    b_hidden = np.zeros((hidden_size, 1))\n",
        "    W_output = np.random.rand(output_size, hidden_size)\n",
        "    b_output = np.zeros((output_size, 1))\n",
        "    return W_hidden, b_hidden, W_output, b_output"
      ],
      "metadata": {
        "id": "ptOiLoZf5txc"
      },
      "execution_count": 109,
      "outputs": []
    },
    {
      "cell_type": "code",
      "source": [
        "def forward_propagation(X, W_hidden, b_hidden, W_output, b_output):\n",
        "    Z_hidden = np.dot(W_hidden, X) + b_hidden\n",
        "    A_hidden = sigmoid(Z_hidden)\n",
        "    Z_output = np.dot(W_output, A_hidden) + b_output\n",
        "    A_output = sigmoid(Z_output)\n",
        "    return Z_hidden, A_hidden, Z_output, A_output"
      ],
      "metadata": {
        "id": "HAvM8VFx2aDk"
      },
      "execution_count": 110,
      "outputs": []
    },
    {
      "cell_type": "code",
      "source": [
        "def compute_loss(A_output, Y):\n",
        "    m = Y.shape[1]\n",
        "    loss = - (1 / m) * np.sum(Y * np.log(A_output) + (1 - Y) * np.log(1 - A_output))\n",
        "    return loss"
      ],
      "metadata": {
        "id": "QDx218-v2Z6k"
      },
      "execution_count": 111,
      "outputs": []
    },
    {
      "cell_type": "code",
      "source": [
        "def backward_propagation(X, Y, Z_hidden, A_hidden, Z_output, A_output, W_output):\n",
        "    m = Y.shape[1]\n",
        "\n",
        "    dZ_output = A_output - Y\n",
        "    dW_output = (1 / m) * np.dot(dZ_output, A_hidden.T)\n",
        "    db_output = (1 / m) * np.sum(dZ_output, axis=1, keepdims=True)\n",
        "\n",
        "    dZ_hidden = np.dot(W_output.T, dZ_output) * sigmoid_derivative(A_hidden)\n",
        "    dW_hidden = (1 / m) * np.dot(dZ_hidden, X.T)\n",
        "    db_hidden = (1 / m) * np.sum(dZ_hidden, axis=1, keepdims=True)\n",
        "\n",
        "    return dW_hidden, db_hidden, dW_output, db_output"
      ],
      "metadata": {
        "id": "sho3wFnc2Z3H"
      },
      "execution_count": 112,
      "outputs": []
    },
    {
      "cell_type": "code",
      "source": [
        "def update_parameters(W_hidden, b_hidden, W_output, b_output, dW_hidden, db_hidden, dW_output, db_output, learning_rate):\n",
        "    W_hidden -= learning_rate * dW_hidden\n",
        "    b_hidden -= learning_rate * db_hidden\n",
        "    W_output -= learning_rate * dW_output\n",
        "    b_output -= learning_rate * db_output\n",
        "    return W_hidden, b_hidden, W_output, b_output"
      ],
      "metadata": {
        "id": "_LJxAOPR2Zya"
      },
      "execution_count": 113,
      "outputs": []
    },
    {
      "cell_type": "code",
      "source": [
        "def train_neural_network(X, Y, hidden_size, output_size, learning_rate, epochs):\n",
        "    input_size = X.shape[0]\n",
        "    W_hidden, b_hidden, W_output, b_output = initialize_parameters(input_size, hidden_size, output_size)\n",
        "\n",
        "    for epoch in range(epochs):\n",
        "        # Forward propagation\n",
        "        Z_hidden, A_hidden, Z_output, A_output = forward_propagation(X, W_hidden, b_hidden, W_output, b_output)\n",
        "\n",
        "        # Compute loss\n",
        "        loss = compute_loss(A_output, Y)\n",
        "\n",
        "        # Backward propagation\n",
        "        dW_hidden, db_hidden, dW_output, db_output = backward_propagation(X, Y, Z_hidden, A_hidden, Z_output, A_output, W_output)\n",
        "\n",
        "        # Update parameters\n",
        "        W_hidden, b_hidden, W_output, b_output = update_parameters(W_hidden, b_hidden, W_output, b_output, dW_hidden, db_hidden, dW_output, db_output, learning_rate)\n",
        "\n",
        "        # Print the loss every 100 epochs\n",
        "        if epoch % 100 == 0:\n",
        "            print(f\"Epoch {epoch}, Loss: {loss}\")\n",
        "\n",
        "    return W_hidden, b_hidden, W_output, b_output"
      ],
      "metadata": {
        "id": "taJUnYhf2pZ4"
      },
      "execution_count": 114,
      "outputs": []
    },
    {
      "cell_type": "code",
      "source": [
        "# Train the neural network\n",
        "trained_parameters = train_neural_network(X, Y, hidden_size, output_size, learning_rate, epochs)\n",
        "\n",
        "# Test the trained network with new data\n",
        "def predict(X, W_hidden, b_hidden, W_output, b_output):\n",
        "    _, _, _, A_output = forward_propagation(X, W_hidden, b_hidden, W_output, b_output)\n",
        "    predictions = (A_output > 0.5).astype(int)\n",
        "    return predictions"
      ],
      "metadata": {
        "colab": {
          "base_uri": "https://localhost:8080/"
        },
        "id": "UGjf4t002pcy",
        "outputId": "cbb0b542-6f53-43ec-abe2-dae495e4980c"
      },
      "execution_count": 115,
      "outputs": [
        {
          "output_type": "stream",
          "name": "stdout",
          "text": [
            "Epoch 0, Loss: 0.8736023253758296\n",
            "Epoch 100, Loss: 0.7532757451668407\n",
            "Epoch 200, Loss: 0.7112029721695292\n",
            "Epoch 300, Loss: 0.6980654752546296\n",
            "Epoch 400, Loss: 0.6941216965070645\n",
            "Epoch 500, Loss: 0.6929334771355903\n",
            "Epoch 600, Loss: 0.6925538592701413\n",
            "Epoch 700, Loss: 0.692409845257748\n",
            "Epoch 800, Loss: 0.6923345111683213\n",
            "Epoch 900, Loss: 0.6922794249507496\n"
          ]
        }
      ]
    },
    {
      "cell_type": "code",
      "source": [
        "# Generate new test data\n",
        "X_test = np.random.rand(2, 10)\n",
        "predictions = predict(X_test, *trained_parameters)\n",
        "\n",
        "print(\"Predictions :\")\n",
        "print(predictions)"
      ],
      "metadata": {
        "colab": {
          "base_uri": "https://localhost:8080/"
        },
        "id": "tpNjdD0I2pf7",
        "outputId": "1ef191ec-7f4a-4fc7-c678-be56a6815b73"
      },
      "execution_count": 116,
      "outputs": [
        {
          "output_type": "stream",
          "name": "stdout",
          "text": [
            "Predictions :\n",
            "[[1 1 1 1 1 1 1 1 1 1]]\n"
          ]
        }
      ]
    },
    {
      "cell_type": "code",
      "source": [],
      "metadata": {
        "id": "rFAkAUUP2pit"
      },
      "execution_count": 116,
      "outputs": []
    },
    {
      "cell_type": "code",
      "source": [
        "# Solving using tensorflow framework"
      ],
      "metadata": {
        "id": "uG8SlLWe2pmN"
      },
      "execution_count": 117,
      "outputs": []
    },
    {
      "cell_type": "code",
      "source": [
        "import tensorflow as tf\n",
        "import numpy as np"
      ],
      "metadata": {
        "id": "34DJzmjz27gy"
      },
      "execution_count": 118,
      "outputs": []
    },
    {
      "cell_type": "code",
      "source": [
        "np.random.seed(42)\n",
        "X = np.random.rand(100, 2)\n",
        "Y = np.random.randint(0, 2, (100, 1))"
      ],
      "metadata": {
        "id": "W4T94fmT27jq"
      },
      "execution_count": 119,
      "outputs": []
    },
    {
      "cell_type": "code",
      "source": [
        "input_size = 2\n",
        "hidden_size = 4\n",
        "output_size = 1\n",
        "learning_rate = 0.01\n",
        "epochs = 1000"
      ],
      "metadata": {
        "id": "FT9VM3gJ27mm"
      },
      "execution_count": 120,
      "outputs": []
    },
    {
      "cell_type": "code",
      "source": [
        "model = tf.keras.Sequential([\n",
        "    tf.keras.layers.Dense(hidden_size, activation='sigmoid', input_shape=(input_size,), name='hidden_layer'),\n",
        "    tf.keras.layers.Dense(output_size, activation='sigmoid', name='output_layer')\n",
        "])\n",
        "\n",
        "model.summary()"
      ],
      "metadata": {
        "colab": {
          "base_uri": "https://localhost:8080/"
        },
        "id": "qVoBTH1w27po",
        "outputId": "13ad02c8-b20b-4ce0-e8ea-419646ac965e"
      },
      "execution_count": 121,
      "outputs": [
        {
          "output_type": "stream",
          "name": "stdout",
          "text": [
            "Model: \"sequential_5\"\n",
            "_________________________________________________________________\n",
            " Layer (type)                Output Shape              Param #   \n",
            "=================================================================\n",
            " hidden_layer (Dense)        (None, 4)                 12        \n",
            "                                                                 \n",
            " output_layer (Dense)        (None, 1)                 5         \n",
            "                                                                 \n",
            "=================================================================\n",
            "Total params: 17 (68.00 Byte)\n",
            "Trainable params: 17 (68.00 Byte)\n",
            "Non-trainable params: 0 (0.00 Byte)\n",
            "_________________________________________________________________\n"
          ]
        }
      ]
    },
    {
      "cell_type": "code",
      "source": [
        "model.compile(optimizer = tf.keras.optimizers.SGD(learning_rate=learning_rate),\n",
        "              loss = tf.keras.losses.BinaryCrossentropy(),\n",
        "              metrics = ['accuracy'])\n",
        "\n",
        "# Train the model\n",
        "history = model.fit(X, Y, epochs=epochs, verbose=0)"
      ],
      "metadata": {
        "id": "nIVzpxyE3ffU"
      },
      "execution_count": 126,
      "outputs": []
    },
    {
      "cell_type": "code",
      "source": [
        "loss, accuracy = model.evaluate(X, Y)\n",
        "print(f'\\nFinal Loss : {loss}, \\nFinal Accuracy : {accuracy}')"
      ],
      "metadata": {
        "colab": {
          "base_uri": "https://localhost:8080/"
        },
        "id": "OHANsGJi27sb",
        "outputId": "73422530-2298-4de8-dd3e-34aa45c35bbe"
      },
      "execution_count": 127,
      "outputs": [
        {
          "output_type": "stream",
          "name": "stdout",
          "text": [
            "4/4 [==============================] - 0s 4ms/step - loss: 0.6870 - accuracy: 0.5500\n",
            "\n",
            "Final Loss : 0.6870406270027161, \n",
            "Final Accuracy : 0.550000011920929\n"
          ]
        }
      ]
    },
    {
      "cell_type": "code",
      "source": [
        "plt.plot(history.history['loss'])\n",
        "plt.title('MODEL LOSS')\n",
        "plt.xlabel('Epoch')\n",
        "plt.ylabel('Loss')\n",
        "plt.show()"
      ],
      "metadata": {
        "colab": {
          "base_uri": "https://localhost:8080/",
          "height": 472
        },
        "id": "rI8HfWMB27v1",
        "outputId": "856de85d-9620-4810-ef9b-eb3796f81ce4"
      },
      "execution_count": 128,
      "outputs": [
        {
          "output_type": "display_data",
          "data": {
            "text/plain": [
              "<Figure size 640x480 with 1 Axes>"
            ],
            "image/png": "[encoded data removed]"
          },
          "metadata": {}
        }
      ]
    },
    {
      "cell_type": "code",
      "source": [
        "# Test the trained model with new data\n",
        "X_test = np.random.rand(10, 2)\n",
        "predictions = model.predict(X_test)\n",
        "binary_predictions = (predictions > 0.5).astype(int)\n",
        "\n",
        "print(\"\\nPredictions :\")\n",
        "print(binary_predictions)"
      ],
      "metadata": {
        "colab": {
          "base_uri": "https://localhost:8080/"
        },
        "id": "QcHMEdGx36OV",
        "outputId": "f50a8616-b95c-4037-e1ed-b47f6ca2848e"
      },
      "execution_count": 129,
      "outputs": [
        {
          "output_type": "stream",
          "name": "stderr",
          "text": [
            "WARNING:tensorflow:6 out of the last 7 calls to <function Model.make_predict_function.<locals>.predict_function at 0x788c761488b0> triggered tf.function retracing. Tracing is expensive and the excessive number of tracings could be due to (1) creating @tf.function repeatedly in a loop, (2) passing tensors with different shapes, (3) passing Python objects instead of tensors. For (1), please define your @tf.function outside of the loop. For (2), @tf.function has reduce_retracing=True option that can avoid unnecessary retracing. For (3), please refer to https://www.tensorflow.org/guide/function#controlling_retracing and https://www.tensorflow.org/api_docs/python/tf/function for  more details.\n"
          ]
        },
        {
          "output_type": "stream",
          "name": "stdout",
          "text": [
            "1/1 [==============================] - 0s 85ms/step\n",
            "\n",
            "Predictions :\n",
            "[[1]\n",
            " [1]\n",
            " [1]\n",
            " [1]\n",
            " [1]\n",
            " [1]\n",
            " [1]\n",
            " [1]\n",
            " [1]\n",
            " [1]]\n"
          ]
        }
      ]
    }
  ]
}